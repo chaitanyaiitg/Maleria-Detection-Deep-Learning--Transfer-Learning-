{
  "nbformat": 4,
  "nbformat_minor": 0,
  "metadata": {
    "colab": {
      "name": "Deep Learning -Maleria.ipynb",
      "provenance": [],
      "collapsed_sections": []
    },
    "kernelspec": {
      "name": "python3",
      "display_name": "Python 3"
    },
    "accelerator": "GPU"
  },
  "cells": [
    {
      "cell_type": "code",
      "metadata": {
        "id": "aoFGHXWzlbD6",
        "colab_type": "code",
        "colab": {
          "base_uri": "https://localhost:8080/",
          "height": 102
        },
        "outputId": "b4383811-78e1-4b51-f98a-050802aac68a"
      },
      "source": [
        "! pip install pandas"
      ],
      "execution_count": 1,
      "outputs": [
        {
          "output_type": "stream",
          "text": [
            "Requirement already satisfied: pandas in /usr/local/lib/python3.6/dist-packages (1.0.5)\n",
            "Requirement already satisfied: numpy>=1.13.3 in /usr/local/lib/python3.6/dist-packages (from pandas) (1.18.5)\n",
            "Requirement already satisfied: pytz>=2017.2 in /usr/local/lib/python3.6/dist-packages (from pandas) (2018.9)\n",
            "Requirement already satisfied: python-dateutil>=2.6.1 in /usr/local/lib/python3.6/dist-packages (from pandas) (2.8.1)\n",
            "Requirement already satisfied: six>=1.5 in /usr/local/lib/python3.6/dist-packages (from python-dateutil>=2.6.1->pandas) (1.15.0)\n"
          ],
          "name": "stdout"
        }
      ]
    },
    {
      "cell_type": "code",
      "metadata": {
        "id": "pAGG6tmdVljX",
        "colab_type": "code",
        "colab": {
          "base_uri": "https://localhost:8080/",
          "height": 734
        },
        "outputId": "ca79f28b-14b0-459a-affb-8355fd89bf2f"
      },
      "source": [
        "! pip install tensorflow-gpu"
      ],
      "execution_count": 2,
      "outputs": [
        {
          "output_type": "stream",
          "text": [
            "Collecting tensorflow-gpu\n",
            "\u001b[?25l  Downloading https://files.pythonhosted.org/packages/0f/11/763f55d3d15efd778ef24453f126e6c33635680e5a2bb346da3fab5997cb/tensorflow_gpu-2.3.0-cp36-cp36m-manylinux2010_x86_64.whl (320.4MB)\n",
            "\u001b[K     |████████████████████████████████| 320.4MB 53kB/s \n",
            "\u001b[?25hRequirement already satisfied: scipy==1.4.1 in /usr/local/lib/python3.6/dist-packages (from tensorflow-gpu) (1.4.1)\n",
            "Requirement already satisfied: astunparse==1.6.3 in /usr/local/lib/python3.6/dist-packages (from tensorflow-gpu) (1.6.3)\n",
            "Requirement already satisfied: wheel>=0.26 in /usr/local/lib/python3.6/dist-packages (from tensorflow-gpu) (0.35.1)\n",
            "Requirement already satisfied: opt-einsum>=2.3.2 in /usr/local/lib/python3.6/dist-packages (from tensorflow-gpu) (3.3.0)\n",
            "Requirement already satisfied: h5py<2.11.0,>=2.10.0 in /usr/local/lib/python3.6/dist-packages (from tensorflow-gpu) (2.10.0)\n",
            "Requirement already satisfied: tensorflow-estimator<2.4.0,>=2.3.0 in /usr/local/lib/python3.6/dist-packages (from tensorflow-gpu) (2.3.0)\n",
            "Requirement already satisfied: protobuf>=3.9.2 in /usr/local/lib/python3.6/dist-packages (from tensorflow-gpu) (3.12.4)\n",
            "Requirement already satisfied: six>=1.12.0 in /usr/local/lib/python3.6/dist-packages (from tensorflow-gpu) (1.15.0)\n",
            "Requirement already satisfied: wrapt>=1.11.1 in /usr/local/lib/python3.6/dist-packages (from tensorflow-gpu) (1.12.1)\n",
            "Requirement already satisfied: keras-preprocessing<1.2,>=1.1.1 in /usr/local/lib/python3.6/dist-packages (from tensorflow-gpu) (1.1.2)\n",
            "Requirement already satisfied: tensorboard<3,>=2.3.0 in /usr/local/lib/python3.6/dist-packages (from tensorflow-gpu) (2.3.0)\n",
            "Requirement already satisfied: termcolor>=1.1.0 in /usr/local/lib/python3.6/dist-packages (from tensorflow-gpu) (1.1.0)\n",
            "Requirement already satisfied: google-pasta>=0.1.8 in /usr/local/lib/python3.6/dist-packages (from tensorflow-gpu) (0.2.0)\n",
            "Requirement already satisfied: gast==0.3.3 in /usr/local/lib/python3.6/dist-packages (from tensorflow-gpu) (0.3.3)\n",
            "Requirement already satisfied: absl-py>=0.7.0 in /usr/local/lib/python3.6/dist-packages (from tensorflow-gpu) (0.8.1)\n",
            "Requirement already satisfied: grpcio>=1.8.6 in /usr/local/lib/python3.6/dist-packages (from tensorflow-gpu) (1.31.0)\n",
            "Requirement already satisfied: numpy<1.19.0,>=1.16.0 in /usr/local/lib/python3.6/dist-packages (from tensorflow-gpu) (1.18.5)\n",
            "Requirement already satisfied: setuptools in /usr/local/lib/python3.6/dist-packages (from protobuf>=3.9.2->tensorflow-gpu) (49.6.0)\n",
            "Requirement already satisfied: markdown>=2.6.8 in /usr/local/lib/python3.6/dist-packages (from tensorboard<3,>=2.3.0->tensorflow-gpu) (3.2.2)\n",
            "Requirement already satisfied: google-auth-oauthlib<0.5,>=0.4.1 in /usr/local/lib/python3.6/dist-packages (from tensorboard<3,>=2.3.0->tensorflow-gpu) (0.4.1)\n",
            "Requirement already satisfied: werkzeug>=0.11.15 in /usr/local/lib/python3.6/dist-packages (from tensorboard<3,>=2.3.0->tensorflow-gpu) (1.0.1)\n",
            "Requirement already satisfied: requests<3,>=2.21.0 in /usr/local/lib/python3.6/dist-packages (from tensorboard<3,>=2.3.0->tensorflow-gpu) (2.23.0)\n",
            "Requirement already satisfied: google-auth<2,>=1.6.3 in /usr/local/lib/python3.6/dist-packages (from tensorboard<3,>=2.3.0->tensorflow-gpu) (1.17.2)\n",
            "Requirement already satisfied: tensorboard-plugin-wit>=1.6.0 in /usr/local/lib/python3.6/dist-packages (from tensorboard<3,>=2.3.0->tensorflow-gpu) (1.7.0)\n",
            "Requirement already satisfied: importlib-metadata; python_version < \"3.8\" in /usr/local/lib/python3.6/dist-packages (from markdown>=2.6.8->tensorboard<3,>=2.3.0->tensorflow-gpu) (1.7.0)\n",
            "Requirement already satisfied: requests-oauthlib>=0.7.0 in /usr/local/lib/python3.6/dist-packages (from google-auth-oauthlib<0.5,>=0.4.1->tensorboard<3,>=2.3.0->tensorflow-gpu) (1.3.0)\n",
            "Requirement already satisfied: certifi>=2017.4.17 in /usr/local/lib/python3.6/dist-packages (from requests<3,>=2.21.0->tensorboard<3,>=2.3.0->tensorflow-gpu) (2020.6.20)\n",
            "Requirement already satisfied: idna<3,>=2.5 in /usr/local/lib/python3.6/dist-packages (from requests<3,>=2.21.0->tensorboard<3,>=2.3.0->tensorflow-gpu) (2.10)\n",
            "Requirement already satisfied: chardet<4,>=3.0.2 in /usr/local/lib/python3.6/dist-packages (from requests<3,>=2.21.0->tensorboard<3,>=2.3.0->tensorflow-gpu) (3.0.4)\n",
            "Requirement already satisfied: urllib3!=1.25.0,!=1.25.1,<1.26,>=1.21.1 in /usr/local/lib/python3.6/dist-packages (from requests<3,>=2.21.0->tensorboard<3,>=2.3.0->tensorflow-gpu) (1.24.3)\n",
            "Requirement already satisfied: cachetools<5.0,>=2.0.0 in /usr/local/lib/python3.6/dist-packages (from google-auth<2,>=1.6.3->tensorboard<3,>=2.3.0->tensorflow-gpu) (4.1.1)\n",
            "Requirement already satisfied: rsa<5,>=3.1.4; python_version >= \"3\" in /usr/local/lib/python3.6/dist-packages (from google-auth<2,>=1.6.3->tensorboard<3,>=2.3.0->tensorflow-gpu) (4.6)\n",
            "Requirement already satisfied: pyasn1-modules>=0.2.1 in /usr/local/lib/python3.6/dist-packages (from google-auth<2,>=1.6.3->tensorboard<3,>=2.3.0->tensorflow-gpu) (0.2.8)\n",
            "Requirement already satisfied: zipp>=0.5 in /usr/local/lib/python3.6/dist-packages (from importlib-metadata; python_version < \"3.8\"->markdown>=2.6.8->tensorboard<3,>=2.3.0->tensorflow-gpu) (3.1.0)\n",
            "Requirement already satisfied: oauthlib>=3.0.0 in /usr/local/lib/python3.6/dist-packages (from requests-oauthlib>=0.7.0->google-auth-oauthlib<0.5,>=0.4.1->tensorboard<3,>=2.3.0->tensorflow-gpu) (3.1.0)\n",
            "Requirement already satisfied: pyasn1>=0.1.3 in /usr/local/lib/python3.6/dist-packages (from rsa<5,>=3.1.4; python_version >= \"3\"->google-auth<2,>=1.6.3->tensorboard<3,>=2.3.0->tensorflow-gpu) (0.4.8)\n",
            "Installing collected packages: tensorflow-gpu\n",
            "Successfully installed tensorflow-gpu-2.3.0\n"
          ],
          "name": "stdout"
        }
      ]
    },
    {
      "cell_type": "code",
      "metadata": {
        "id": "glBoKVQmVqkj",
        "colab_type": "code",
        "colab": {
          "base_uri": "https://localhost:8080/",
          "height": 119
        },
        "outputId": "5f354b8d-8e9e-4bd8-eb32-19f2a9fae9e5"
      },
      "source": [
        "!pip install keras"
      ],
      "execution_count": 3,
      "outputs": [
        {
          "output_type": "stream",
          "text": [
            "Requirement already satisfied: keras in /usr/local/lib/python3.6/dist-packages (2.4.3)\n",
            "Requirement already satisfied: pyyaml in /usr/local/lib/python3.6/dist-packages (from keras) (3.13)\n",
            "Requirement already satisfied: h5py in /usr/local/lib/python3.6/dist-packages (from keras) (2.10.0)\n",
            "Requirement already satisfied: scipy>=0.14 in /usr/local/lib/python3.6/dist-packages (from keras) (1.4.1)\n",
            "Requirement already satisfied: numpy>=1.9.1 in /usr/local/lib/python3.6/dist-packages (from keras) (1.18.5)\n",
            "Requirement already satisfied: six in /usr/local/lib/python3.6/dist-packages (from h5py->keras) (1.15.0)\n"
          ],
          "name": "stdout"
        }
      ]
    },
    {
      "cell_type": "code",
      "metadata": {
        "id": "s6aVyGnP1qz_",
        "colab_type": "code",
        "colab": {
          "base_uri": "https://localhost:8080/",
          "height": 68
        },
        "outputId": "f5208f7f-8f0f-4795-b632-e93bb5d258b5"
      },
      "source": [
        "import matplotlib.pylab as plt\n",
        "import numpy as np\n",
        "import tensorflow_hub as hub\n",
        "import tensorflow as tf\n",
        "print(\"TF version:\", tf.__version__)\n",
        "print(\"Hub version:\", hub.__version__)\n",
        "print(\"GPU is\", \"available\" if tf.test.is_gpu_available() else \"NOT AVAILABLE\")"
      ],
      "execution_count": 5,
      "outputs": [
        {
          "output_type": "stream",
          "text": [
            "TF version: 2.3.0\n",
            "Hub version: 0.9.0\n",
            "GPU is available\n"
          ],
          "name": "stdout"
        }
      ]
    },
    {
      "cell_type": "code",
      "metadata": {
        "id": "QlEmywnUVcAG",
        "colab_type": "code",
        "colab": {}
      },
      "source": [
        "from tensorflow.keras.layers import Input, Lambda, Dense, Flatten\n",
        "from tensorflow.keras.models import Model\n",
        "#from tensorflow.keras.applications.resnet50 import ResNet50\n",
        "#from tensorflow.keras.applications.resnet152V2 import ResNet152V2\n",
        "from tensorflow.keras.applications.vgg19 import VGG19\n",
        "from tensorflow.keras.applications.vgg19 import preprocess_input\n",
        "from tensorflow.keras.preprocessing import image\n",
        "from tensorflow.keras.preprocessing.image import ImageDataGenerator,load_img\n",
        "from tensorflow.keras.models import Sequential\n",
        "from glob import glob"
      ],
      "execution_count": 25,
      "outputs": []
    },
    {
      "cell_type": "code",
      "metadata": {
        "id": "nc01YyZBTs98",
        "colab_type": "code",
        "colab": {
          "base_uri": "https://localhost:8080/",
          "height": 34
        },
        "outputId": "4853cf28-20d1-48ce-a0d2-ea1666113645"
      },
      "source": [
        "from google.colab import drive\n",
        "drive.mount('/content/drive')"
      ],
      "execution_count": 26,
      "outputs": [
        {
          "output_type": "stream",
          "text": [
            "Drive already mounted at /content/drive; to attempt to forcibly remount, call drive.mount(\"/content/drive\", force_remount=True).\n"
          ],
          "name": "stdout"
        }
      ]
    },
    {
      "cell_type": "markdown",
      "metadata": {
        "id": "BxSFLC2x1_BI",
        "colab_type": "text"
      },
      "source": [
        "# New Section"
      ]
    },
    {
      "cell_type": "code",
      "metadata": {
        "id": "QUdhAu9bD7Xj",
        "colab_type": "code",
        "colab": {}
      },
      "source": [
        "IMAGE_SIZE = [224, 224]\n",
        "\n",
        "train_path = '/content/drive/My Drive/Malaria/Dataset/Train'\n",
        "valid_path = '/content/drive/My Drive/Malaria/Dataset/Test'"
      ],
      "execution_count": 41,
      "outputs": []
    },
    {
      "cell_type": "code",
      "metadata": {
        "id": "Jn2HbXZrNYTD",
        "colab_type": "code",
        "colab": {}
      },
      "source": [
        "# Import the VGG19 library as shown below and add preprocessing layer to the front of VGG19\",\n",
        "# Here we will be using imagenet weights\\n\"\n",
        "vgg= VGG19(input_shape=IMAGE_SIZE + [3], weights='imagenet', include_top=False)"
      ],
      "execution_count": 42,
      "outputs": []
    },
    {
      "cell_type": "code",
      "metadata": {
        "id": "VwRF99NZNboI",
        "colab_type": "code",
        "colab": {}
      },
      "source": [
        "# don't train existing weights\\n\",\n",
        "for layer in vgg.layers:\n",
        "    layer.trainable = False"
      ],
      "execution_count": 44,
      "outputs": []
    },
    {
      "cell_type": "code",
      "metadata": {
        "id": "hBrLXG1WNiYN",
        "colab_type": "code",
        "colab": {
          "base_uri": "https://localhost:8080/",
          "height": 34
        },
        "outputId": "9d844219-5b78-4c62-b0cd-12ed96ffdf60"
      },
      "source": [
        "# useful for getting number of output classes\n",
        "folders = glob('/content/drive/My Drive/Malaria/Dataset/Train/*')\n",
        "len(folders)"
      ],
      "execution_count": 45,
      "outputs": [
        {
          "output_type": "execute_result",
          "data": {
            "text/plain": [
              "2"
            ]
          },
          "metadata": {
            "tags": []
          },
          "execution_count": 45
        }
      ]
    },
    {
      "cell_type": "code",
      "metadata": {
        "id": "ysVjO_B7wdua",
        "colab_type": "code",
        "colab": {
          "base_uri": "https://localhost:8080/",
          "height": 35
        },
        "outputId": "ce48ed2b-c198-4c51-93dc-5729cbc07b8c"
      },
      "source": [
        "folders[0]"
      ],
      "execution_count": 46,
      "outputs": [
        {
          "output_type": "execute_result",
          "data": {
            "application/vnd.google.colaboratory.intrinsic+json": {
              "type": "string"
            },
            "text/plain": [
              "'/content/drive/My Drive/Malaria/Dataset/Train/Parasite'"
            ]
          },
          "metadata": {
            "tags": []
          },
          "execution_count": 46
        }
      ]
    },
    {
      "cell_type": "code",
      "metadata": {
        "id": "DwHaqxyeSCVX",
        "colab_type": "code",
        "colab": {}
      },
      "source": [
        "# our layers - you can add more if you want\n",
        "x = Flatten()(vgg.output)"
      ],
      "execution_count": 47,
      "outputs": []
    },
    {
      "cell_type": "code",
      "metadata": {
        "id": "SEH6F79lWpGL",
        "colab_type": "code",
        "colab": {}
      },
      "source": [
        "prediction=Dense(len(folders), activation='softmax')(x)"
      ],
      "execution_count": 48,
      "outputs": []
    },
    {
      "cell_type": "code",
      "metadata": {
        "id": "Sni7zmuNWq3X",
        "colab_type": "code",
        "colab": {}
      },
      "source": [
        "# create a model object\n",
        "model = Model(inputs=vgg.input, outputs=prediction)"
      ],
      "execution_count": 49,
      "outputs": []
    },
    {
      "cell_type": "code",
      "metadata": {
        "id": "kdK7udMoWsmv",
        "colab_type": "code",
        "colab": {
          "base_uri": "https://localhost:8080/",
          "height": 969
        },
        "outputId": "60ca8c88-f736-4ab6-bdf4-14bbcf6e2d03"
      },
      "source": [
        "\n",
        "# view the structure of the model\n",
        "model.summary()"
      ],
      "execution_count": 50,
      "outputs": [
        {
          "output_type": "stream",
          "text": [
            "Model: \"functional_5\"\n",
            "_________________________________________________________________\n",
            "Layer (type)                 Output Shape              Param #   \n",
            "=================================================================\n",
            "input_4 (InputLayer)         [(None, 224, 224, 3)]     0         \n",
            "_________________________________________________________________\n",
            "block1_conv1 (Conv2D)        (None, 224, 224, 64)      1792      \n",
            "_________________________________________________________________\n",
            "block1_conv2 (Conv2D)        (None, 224, 224, 64)      36928     \n",
            "_________________________________________________________________\n",
            "block1_pool (MaxPooling2D)   (None, 112, 112, 64)      0         \n",
            "_________________________________________________________________\n",
            "block2_conv1 (Conv2D)        (None, 112, 112, 128)     73856     \n",
            "_________________________________________________________________\n",
            "block2_conv2 (Conv2D)        (None, 112, 112, 128)     147584    \n",
            "_________________________________________________________________\n",
            "block2_pool (MaxPooling2D)   (None, 56, 56, 128)       0         \n",
            "_________________________________________________________________\n",
            "block3_conv1 (Conv2D)        (None, 56, 56, 256)       295168    \n",
            "_________________________________________________________________\n",
            "block3_conv2 (Conv2D)        (None, 56, 56, 256)       590080    \n",
            "_________________________________________________________________\n",
            "block3_conv3 (Conv2D)        (None, 56, 56, 256)       590080    \n",
            "_________________________________________________________________\n",
            "block3_conv4 (Conv2D)        (None, 56, 56, 256)       590080    \n",
            "_________________________________________________________________\n",
            "block3_pool (MaxPooling2D)   (None, 28, 28, 256)       0         \n",
            "_________________________________________________________________\n",
            "block4_conv1 (Conv2D)        (None, 28, 28, 512)       1180160   \n",
            "_________________________________________________________________\n",
            "block4_conv2 (Conv2D)        (None, 28, 28, 512)       2359808   \n",
            "_________________________________________________________________\n",
            "block4_conv3 (Conv2D)        (None, 28, 28, 512)       2359808   \n",
            "_________________________________________________________________\n",
            "block4_conv4 (Conv2D)        (None, 28, 28, 512)       2359808   \n",
            "_________________________________________________________________\n",
            "block4_pool (MaxPooling2D)   (None, 14, 14, 512)       0         \n",
            "_________________________________________________________________\n",
            "block5_conv1 (Conv2D)        (None, 14, 14, 512)       2359808   \n",
            "_________________________________________________________________\n",
            "block5_conv2 (Conv2D)        (None, 14, 14, 512)       2359808   \n",
            "_________________________________________________________________\n",
            "block5_conv3 (Conv2D)        (None, 14, 14, 512)       2359808   \n",
            "_________________________________________________________________\n",
            "block5_conv4 (Conv2D)        (None, 14, 14, 512)       2359808   \n",
            "_________________________________________________________________\n",
            "block5_pool (MaxPooling2D)   (None, 7, 7, 512)         0         \n",
            "_________________________________________________________________\n",
            "flatten_2 (Flatten)          (None, 25088)             0         \n",
            "_________________________________________________________________\n",
            "dense_2 (Dense)              (None, 2)                 50178     \n",
            "=================================================================\n",
            "Total params: 20,074,562\n",
            "Trainable params: 50,178\n",
            "Non-trainable params: 20,024,384\n",
            "_________________________________________________________________\n"
          ],
          "name": "stdout"
        }
      ]
    },
    {
      "cell_type": "code",
      "metadata": {
        "id": "NztyuBQNWvZs",
        "colab_type": "code",
        "colab": {}
      },
      "source": [
        "model.compile(\n",
        "  loss='categorical_crossentropy',\n",
        "  optimizer='adam',\n",
        "  metrics=['accuracy']\n",
        ")"
      ],
      "execution_count": 51,
      "outputs": []
    },
    {
      "cell_type": "code",
      "metadata": {
        "id": "8K8WpzgrW3Mn",
        "colab_type": "code",
        "colab": {}
      },
      "source": [
        "from tensorflow.keras.preprocessing.image import ImageDataGenerator\n",
        "\n",
        "train_datagen = ImageDataGenerator(rescale = 1./255,\n",
        "                                   shear_range = 0.2,\n",
        "                                   zoom_range = 0.2,\n",
        "                                   horizontal_flip = True)\n",
        "\n",
        "test_datagen = ImageDataGenerator(rescale = 1./255)"
      ],
      "execution_count": 52,
      "outputs": []
    },
    {
      "cell_type": "code",
      "metadata": {
        "id": "VZJzSZ_MW5do",
        "colab_type": "code",
        "colab": {
          "base_uri": "https://localhost:8080/",
          "height": 34
        },
        "outputId": "6a8cad28-234d-4b3b-83b9-efb316ef65ab"
      },
      "source": [
        "\n",
        "# Make sure you provide the same target size as initialied for the image size\n",
        "training_set = train_datagen.flow_from_directory('/content/drive/My Drive/Malaria/Dataset/Train',\n",
        "                                                 target_size = (224, 224),\n",
        "                                                 batch_size = 32,\n",
        "                                                 class_mode = 'categorical')"
      ],
      "execution_count": 53,
      "outputs": [
        {
          "output_type": "stream",
          "text": [
            "Found 416 images belonging to 2 classes.\n"
          ],
          "name": "stdout"
        }
      ]
    },
    {
      "cell_type": "code",
      "metadata": {
        "id": "QgAX8i3tW7EI",
        "colab_type": "code",
        "colab": {
          "base_uri": "https://localhost:8080/",
          "height": 34
        },
        "outputId": "95cf93a0-0710-4564-9e85-8bc1f5035267"
      },
      "source": [
        "test_set = test_datagen.flow_from_directory('/content/drive/My Drive/Malaria/Dataset/Test',\n",
        "                                            target_size = (224, 224),\n",
        "                                            batch_size = 32,\n",
        "                                            class_mode = 'categorical')"
      ],
      "execution_count": 54,
      "outputs": [
        {
          "output_type": "stream",
          "text": [
            "Found 134 images belonging to 2 classes.\n"
          ],
          "name": "stdout"
        }
      ]
    },
    {
      "cell_type": "code",
      "metadata": {
        "id": "DdyEv5Q1XeSL",
        "colab_type": "code",
        "colab": {
          "base_uri": "https://localhost:8080/",
          "height": 1000
        },
        "outputId": "c07a2fd1-8097-48c3-c411-19810036d1df"
      },
      "source": [
        "\n",
        "# fit the model\n",
        "# Run the cell. It will take some time to execute\n",
        "r = model.fit_generator(\n",
        "  training_set,\n",
        "  validation_data=test_set,\n",
        "  epochs=50,\n",
        "  steps_per_epoch=len(training_set),\n",
        "  validation_steps=len(test_set)\n",
        ")"
      ],
      "execution_count": 55,
      "outputs": [
        {
          "output_type": "stream",
          "text": [
            "Epoch 1/50\n",
            "13/13 [==============================] - 6s 443ms/step - loss: 1.8229 - accuracy: 0.4904 - val_loss: 0.7370 - val_accuracy: 0.6791\n",
            "Epoch 2/50\n",
            "13/13 [==============================] - 6s 439ms/step - loss: 0.7607 - accuracy: 0.6082 - val_loss: 0.4854 - val_accuracy: 0.7463\n",
            "Epoch 3/50\n",
            "13/13 [==============================] - 6s 438ms/step - loss: 0.4792 - accuracy: 0.7764 - val_loss: 0.4493 - val_accuracy: 0.7239\n",
            "Epoch 4/50\n",
            "13/13 [==============================] - 5s 419ms/step - loss: 0.3617 - accuracy: 0.8630 - val_loss: 0.5823 - val_accuracy: 0.7164\n",
            "Epoch 5/50\n",
            "13/13 [==============================] - 6s 427ms/step - loss: 0.3424 - accuracy: 0.8606 - val_loss: 0.3880 - val_accuracy: 0.7687\n",
            "Epoch 6/50\n",
            "13/13 [==============================] - 6s 427ms/step - loss: 0.3036 - accuracy: 0.8894 - val_loss: 0.4413 - val_accuracy: 0.8060\n",
            "Epoch 7/50\n",
            "13/13 [==============================] - 6s 426ms/step - loss: 0.2778 - accuracy: 0.9062 - val_loss: 0.3511 - val_accuracy: 0.8358\n",
            "Epoch 8/50\n",
            "13/13 [==============================] - 6s 424ms/step - loss: 0.2878 - accuracy: 0.8894 - val_loss: 0.4028 - val_accuracy: 0.8134\n",
            "Epoch 9/50\n",
            "13/13 [==============================] - 6s 426ms/step - loss: 0.2517 - accuracy: 0.9062 - val_loss: 0.3572 - val_accuracy: 0.8134\n",
            "Epoch 10/50\n",
            "13/13 [==============================] - 6s 426ms/step - loss: 0.2298 - accuracy: 0.9327 - val_loss: 0.3546 - val_accuracy: 0.8582\n",
            "Epoch 11/50\n",
            "13/13 [==============================] - 6s 426ms/step - loss: 0.2365 - accuracy: 0.9087 - val_loss: 0.3013 - val_accuracy: 0.9030\n",
            "Epoch 12/50\n",
            "13/13 [==============================] - 6s 426ms/step - loss: 0.2089 - accuracy: 0.9399 - val_loss: 0.3554 - val_accuracy: 0.8284\n",
            "Epoch 13/50\n",
            "13/13 [==============================] - 6s 427ms/step - loss: 0.1969 - accuracy: 0.9375 - val_loss: 0.2863 - val_accuracy: 0.9104\n",
            "Epoch 14/50\n",
            "13/13 [==============================] - 6s 432ms/step - loss: 0.1708 - accuracy: 0.9447 - val_loss: 0.3664 - val_accuracy: 0.8060\n",
            "Epoch 15/50\n",
            "13/13 [==============================] - 6s 425ms/step - loss: 0.1966 - accuracy: 0.9327 - val_loss: 0.3595 - val_accuracy: 0.7836\n",
            "Epoch 16/50\n",
            "13/13 [==============================] - 5s 421ms/step - loss: 0.2695 - accuracy: 0.8702 - val_loss: 0.3155 - val_accuracy: 0.8806\n",
            "Epoch 17/50\n",
            "13/13 [==============================] - 5s 421ms/step - loss: 0.2054 - accuracy: 0.9159 - val_loss: 0.3020 - val_accuracy: 0.8657\n",
            "Epoch 18/50\n",
            "13/13 [==============================] - 6s 424ms/step - loss: 0.1630 - accuracy: 0.9519 - val_loss: 0.2443 - val_accuracy: 0.9328\n",
            "Epoch 19/50\n",
            "13/13 [==============================] - 6s 424ms/step - loss: 0.1701 - accuracy: 0.9471 - val_loss: 0.3495 - val_accuracy: 0.8209\n",
            "Epoch 20/50\n",
            "13/13 [==============================] - 5s 423ms/step - loss: 0.2300 - accuracy: 0.9062 - val_loss: 0.2275 - val_accuracy: 0.9403\n",
            "Epoch 21/50\n",
            "13/13 [==============================] - 5s 422ms/step - loss: 0.1468 - accuracy: 0.9591 - val_loss: 0.3276 - val_accuracy: 0.8507\n",
            "Epoch 22/50\n",
            "13/13 [==============================] - 5s 420ms/step - loss: 0.1400 - accuracy: 0.9615 - val_loss: 0.2635 - val_accuracy: 0.8881\n",
            "Epoch 23/50\n",
            "13/13 [==============================] - 6s 425ms/step - loss: 0.1336 - accuracy: 0.9615 - val_loss: 0.2253 - val_accuracy: 0.9403\n",
            "Epoch 24/50\n",
            "13/13 [==============================] - 5s 421ms/step - loss: 0.1281 - accuracy: 0.9688 - val_loss: 0.3064 - val_accuracy: 0.8731\n",
            "Epoch 25/50\n",
            "13/13 [==============================] - 5s 421ms/step - loss: 0.1311 - accuracy: 0.9639 - val_loss: 0.2856 - val_accuracy: 0.8731\n",
            "Epoch 26/50\n",
            "13/13 [==============================] - 6s 438ms/step - loss: 0.1360 - accuracy: 0.9543 - val_loss: 0.2274 - val_accuracy: 0.9254\n",
            "Epoch 27/50\n",
            "13/13 [==============================] - 6s 429ms/step - loss: 0.1225 - accuracy: 0.9688 - val_loss: 0.2131 - val_accuracy: 0.9254\n",
            "Epoch 28/50\n",
            "13/13 [==============================] - 6s 428ms/step - loss: 0.1206 - accuracy: 0.9712 - val_loss: 0.3079 - val_accuracy: 0.8657\n",
            "Epoch 29/50\n",
            "13/13 [==============================] - 5s 420ms/step - loss: 0.1248 - accuracy: 0.9591 - val_loss: 0.2720 - val_accuracy: 0.8433\n",
            "Epoch 30/50\n",
            "13/13 [==============================] - 5s 422ms/step - loss: 0.1436 - accuracy: 0.9495 - val_loss: 0.3039 - val_accuracy: 0.8582\n",
            "Epoch 31/50\n",
            "13/13 [==============================] - 5s 421ms/step - loss: 0.1400 - accuracy: 0.9591 - val_loss: 0.2368 - val_accuracy: 0.9254\n",
            "Epoch 32/50\n",
            "13/13 [==============================] - 5s 420ms/step - loss: 0.1185 - accuracy: 0.9639 - val_loss: 0.2070 - val_accuracy: 0.9403\n",
            "Epoch 33/50\n",
            "13/13 [==============================] - 6s 423ms/step - loss: 0.1001 - accuracy: 0.9663 - val_loss: 0.2684 - val_accuracy: 0.9104\n",
            "Epoch 34/50\n",
            "13/13 [==============================] - 5s 419ms/step - loss: 0.1152 - accuracy: 0.9712 - val_loss: 0.1985 - val_accuracy: 0.9403\n",
            "Epoch 35/50\n",
            "13/13 [==============================] - 5s 420ms/step - loss: 0.0906 - accuracy: 0.9832 - val_loss: 0.2519 - val_accuracy: 0.9104\n",
            "Epoch 36/50\n",
            "13/13 [==============================] - 5s 422ms/step - loss: 0.1212 - accuracy: 0.9543 - val_loss: 0.2067 - val_accuracy: 0.9254\n",
            "Epoch 37/50\n",
            "13/13 [==============================] - 5s 423ms/step - loss: 0.1224 - accuracy: 0.9663 - val_loss: 0.2142 - val_accuracy: 0.9254\n",
            "Epoch 38/50\n",
            "13/13 [==============================] - 5s 421ms/step - loss: 0.1597 - accuracy: 0.9423 - val_loss: 0.5310 - val_accuracy: 0.7388\n",
            "Epoch 39/50\n",
            "13/13 [==============================] - 5s 421ms/step - loss: 0.1523 - accuracy: 0.9351 - val_loss: 0.1921 - val_accuracy: 0.9179\n",
            "Epoch 40/50\n",
            "13/13 [==============================] - 5s 421ms/step - loss: 0.1172 - accuracy: 0.9567 - val_loss: 0.2373 - val_accuracy: 0.9104\n",
            "Epoch 41/50\n",
            "13/13 [==============================] - 6s 425ms/step - loss: 0.1005 - accuracy: 0.9639 - val_loss: 0.2178 - val_accuracy: 0.9179\n",
            "Epoch 42/50\n",
            "13/13 [==============================] - 5s 420ms/step - loss: 0.1107 - accuracy: 0.9615 - val_loss: 0.2465 - val_accuracy: 0.9104\n",
            "Epoch 43/50\n",
            "13/13 [==============================] - 5s 418ms/step - loss: 0.1318 - accuracy: 0.9567 - val_loss: 0.1958 - val_accuracy: 0.9254\n",
            "Epoch 44/50\n",
            "13/13 [==============================] - 5s 419ms/step - loss: 0.0830 - accuracy: 0.9760 - val_loss: 0.3063 - val_accuracy: 0.8582\n",
            "Epoch 45/50\n",
            "13/13 [==============================] - 5s 418ms/step - loss: 0.0880 - accuracy: 0.9736 - val_loss: 0.1896 - val_accuracy: 0.9254\n",
            "Epoch 46/50\n",
            "13/13 [==============================] - 5s 419ms/step - loss: 0.0840 - accuracy: 0.9784 - val_loss: 0.1884 - val_accuracy: 0.9254\n",
            "Epoch 47/50\n",
            "13/13 [==============================] - 5s 418ms/step - loss: 0.0880 - accuracy: 0.9736 - val_loss: 0.4468 - val_accuracy: 0.7836\n",
            "Epoch 48/50\n",
            "13/13 [==============================] - 5s 421ms/step - loss: 0.0930 - accuracy: 0.9639 - val_loss: 0.2151 - val_accuracy: 0.9179\n",
            "Epoch 49/50\n",
            "13/13 [==============================] - 5s 420ms/step - loss: 0.0742 - accuracy: 0.9760 - val_loss: 0.1960 - val_accuracy: 0.9254\n",
            "Epoch 50/50\n",
            "13/13 [==============================] - 5s 419ms/step - loss: 0.0825 - accuracy: 0.9808 - val_loss: 0.3016 - val_accuracy: 0.8358\n"
          ],
          "name": "stdout"
        }
      ]
    },
    {
      "cell_type": "code",
      "metadata": {
        "id": "b7E0y-IrXh6k",
        "colab_type": "code",
        "colab": {
          "base_uri": "https://localhost:8080/",
          "height": 531
        },
        "outputId": "a3d3fdb8-a398-4cc9-aa2f-89f0dde654f5"
      },
      "source": [
        "# plot the loss\n",
        "plt.plot(r.history['loss'], label='train loss')\n",
        "plt.plot(r.history['val_loss'], label='val loss')\n",
        "plt.legend()\n",
        "plt.show()\n",
        "plt.savefig('LossVal_loss')\n",
        "\n",
        "# plot the accuracy\n",
        "plt.plot(r.history['accuracy'], label='train acc')\n",
        "plt.plot(r.history['val_accuracy'], label='val acc')\n",
        "plt.legend()\n",
        "plt.show()\n",
        "plt.savefig('AccVal_acc')"
      ],
      "execution_count": 56,
      "outputs": [
        {
          "output_type": "display_data",
          "data": {
            "image/png": "[encoded data removed]",
            "text/plain": [
              "<Figure size 432x288 with 1 Axes>"
            ]
          },
          "metadata": {
            "tags": [],
            "needs_background": "light"
          }
        },
        {
          "output_type": "display_data",
          "data": {
            "image/png": "[encoded data removed]",
            "text/plain": [
              "<Figure size 432x288 with 1 Axes>"
            ]
          },
          "metadata": {
            "tags": [],
            "needs_background": "light"
          }
        },
        {
          "output_type": "display_data",
          "data": {
            "text/plain": [
              "<Figure size 432x288 with 0 Axes>"
            ]
          },
          "metadata": {
            "tags": []
          }
        }
      ]
    },
    {
      "cell_type": "code",
      "metadata": {
        "id": "wcs9aWsbXoEV",
        "colab_type": "code",
        "colab": {}
      },
      "source": [
        "# save it as a h5 file\n",
        "\n",
        "\n",
        "from tensorflow.keras.models import load_model\n",
        "\n",
        "model.save('maleria_model_vgg19.h5')"
      ],
      "execution_count": 57,
      "outputs": []
    },
    {
      "cell_type": "code",
      "metadata": {
        "id": "6DdBnzA0XoVJ",
        "colab_type": "code",
        "colab": {}
      },
      "source": [
        "y_pred = model.predict(test_set)"
      ],
      "execution_count": 58,
      "outputs": []
    },
    {
      "cell_type": "code",
      "metadata": {
        "id": "UR4TSm5UXohy",
        "colab_type": "code",
        "colab": {
          "base_uri": "https://localhost:8080/",
          "height": 1000
        },
        "outputId": "2b9a4f7a-ac2c-42ee-9602-fc9020448eb4"
      },
      "source": [
        "y_pred"
      ],
      "execution_count": 59,
      "outputs": [
        {
          "output_type": "execute_result",
          "data": {
            "text/plain": [
              "array([[3.73702683e-02, 9.62629795e-01],\n",
              "       [1.13356542e-02, 9.88664329e-01],\n",
              "       [8.38763833e-01, 1.61236212e-01],\n",
              "       [9.70228791e-01, 2.97711492e-02],\n",
              "       [9.14817631e-01, 8.51823986e-02],\n",
              "       [9.66495216e-01, 3.35048661e-02],\n",
              "       [2.07088608e-02, 9.79291141e-01],\n",
              "       [1.06692933e-01, 8.93307090e-01],\n",
              "       [6.75007045e-01, 3.24992955e-01],\n",
              "       [4.50140119e-01, 5.49859881e-01],\n",
              "       [9.99992728e-01, 7.27082443e-06],\n",
              "       [8.15479010e-02, 9.18452144e-01],\n",
              "       [8.38733494e-01, 1.61266506e-01],\n",
              "       [9.81568396e-01, 1.84316058e-02],\n",
              "       [5.78508019e-01, 4.21491951e-01],\n",
              "       [9.97941911e-01, 2.05807551e-03],\n",
              "       [9.06848669e-01, 9.31512490e-02],\n",
              "       [2.69856334e-01, 7.30143666e-01],\n",
              "       [9.77467000e-01, 2.25330703e-02],\n",
              "       [9.92245413e-03, 9.90077496e-01],\n",
              "       [4.88083363e-01, 5.11916637e-01],\n",
              "       [2.86667682e-02, 9.71333265e-01],\n",
              "       [1.16049878e-01, 8.83950114e-01],\n",
              "       [4.40551452e-02, 9.55944836e-01],\n",
              "       [5.03238201e-01, 4.96761829e-01],\n",
              "       [2.97532305e-02, 9.70246792e-01],\n",
              "       [9.99305725e-01, 6.94327347e-04],\n",
              "       [9.99999881e-01, 7.40164978e-08],\n",
              "       [1.75119694e-02, 9.82488096e-01],\n",
              "       [7.63403475e-01, 2.36596525e-01],\n",
              "       [9.98475611e-01, 1.52435072e-03],\n",
              "       [1.88940577e-02, 9.81105983e-01],\n",
              "       [9.99994278e-01, 5.75936201e-06],\n",
              "       [9.99984503e-01, 1.54973914e-05],\n",
              "       [2.92161554e-02, 9.70783830e-01],\n",
              "       [5.77334583e-01, 4.22665447e-01],\n",
              "       [3.30336951e-02, 9.66966331e-01],\n",
              "       [8.88280094e-01, 1.11719899e-01],\n",
              "       [9.90399301e-01, 9.60063376e-03],\n",
              "       [9.99999881e-01, 1.17137525e-07],\n",
              "       [1.84058137e-02, 9.81594205e-01],\n",
              "       [1.88812017e-01, 8.11187923e-01],\n",
              "       [7.04972148e-02, 9.29502726e-01],\n",
              "       [9.77644026e-01, 2.23560426e-02],\n",
              "       [8.91536534e-01, 1.08463503e-01],\n",
              "       [6.29260838e-01, 3.70739132e-01],\n",
              "       [9.99848843e-01, 1.51106462e-04],\n",
              "       [4.24019992e-01, 5.75980067e-01],\n",
              "       [7.57700324e-01, 2.42299646e-01],\n",
              "       [9.46898818e-01, 5.31011634e-02],\n",
              "       [7.91653469e-02, 9.20834601e-01],\n",
              "       [9.99022961e-01, 9.77071119e-04],\n",
              "       [5.21247745e-01, 4.78752255e-01],\n",
              "       [4.81537938e-01, 5.18462062e-01],\n",
              "       [9.98349547e-01, 1.65046961e-03],\n",
              "       [9.65457797e-01, 3.45421880e-02],\n",
              "       [9.21707988e-01, 7.82920271e-02],\n",
              "       [9.99954343e-01, 4.56481794e-05],\n",
              "       [9.87118959e-01, 1.28810946e-02],\n",
              "       [2.47558728e-01, 7.52441287e-01],\n",
              "       [3.65082361e-02, 9.63491738e-01],\n",
              "       [9.99070883e-01, 9.29121976e-04],\n",
              "       [9.99160528e-01, 8.39441433e-04],\n",
              "       [9.99311447e-01, 6.88612054e-04],\n",
              "       [5.70108555e-02, 9.42989171e-01],\n",
              "       [1.14722904e-02, 9.88527775e-01],\n",
              "       [9.98433411e-01, 1.56657863e-03],\n",
              "       [9.39177155e-01, 6.08229004e-02],\n",
              "       [1.58242956e-02, 9.84175742e-01],\n",
              "       [6.14323318e-01, 3.85676652e-01],\n",
              "       [1.82626024e-02, 9.81737375e-01],\n",
              "       [9.99427080e-01, 5.72959252e-04],\n",
              "       [2.57816911e-01, 7.42183089e-01],\n",
              "       [3.42286736e-01, 6.57713294e-01],\n",
              "       [9.70576704e-01, 2.94233356e-02],\n",
              "       [4.79645193e-01, 5.20354748e-01],\n",
              "       [6.38191283e-01, 3.61808777e-01],\n",
              "       [1.66250020e-02, 9.83375013e-01],\n",
              "       [9.16976854e-02, 9.08302307e-01],\n",
              "       [3.35643776e-02, 9.66435611e-01],\n",
              "       [9.98465180e-01, 1.53488596e-03],\n",
              "       [9.98101532e-01, 1.89844810e-03],\n",
              "       [6.94179714e-01, 3.05820227e-01],\n",
              "       [9.99841332e-01, 1.58657829e-04],\n",
              "       [2.25595593e-01, 7.74404407e-01],\n",
              "       [1.24023668e-02, 9.87597644e-01],\n",
              "       [9.99948263e-01, 5.17531371e-05],\n",
              "       [4.07419726e-02, 9.59258020e-01],\n",
              "       [4.78816152e-01, 5.21183908e-01],\n",
              "       [1.19819557e-02, 9.88018036e-01],\n",
              "       [1.85906127e-01, 8.14093888e-01],\n",
              "       [9.99700785e-01, 2.99244653e-04],\n",
              "       [9.99591887e-01, 4.08122694e-04],\n",
              "       [5.07638566e-02, 9.49236155e-01],\n",
              "       [5.25204502e-02, 9.47479546e-01],\n",
              "       [4.34689611e-01, 5.65310359e-01],\n",
              "       [9.99997735e-01, 2.24265955e-06],\n",
              "       [3.46084207e-01, 6.53915763e-01],\n",
              "       [4.86868352e-01, 5.13131678e-01],\n",
              "       [3.93968448e-03, 9.96060312e-01],\n",
              "       [9.96302843e-01, 3.69718182e-03],\n",
              "       [8.42734098e-01, 1.57265887e-01],\n",
              "       [2.47150183e-01, 7.52849817e-01],\n",
              "       [5.38927317e-02, 9.46107268e-01],\n",
              "       [9.98681724e-01, 1.31829688e-03],\n",
              "       [4.24796715e-02, 9.57520366e-01],\n",
              "       [2.29306519e-02, 9.77069318e-01],\n",
              "       [9.92284894e-01, 7.71512045e-03],\n",
              "       [9.99886274e-01, 1.13734757e-04],\n",
              "       [8.51305783e-01, 1.48694187e-01],\n",
              "       [2.83846520e-02, 9.71615314e-01],\n",
              "       [8.32730889e-01, 1.67269155e-01],\n",
              "       [9.83086586e-01, 1.69134084e-02],\n",
              "       [2.56692339e-02, 9.74330783e-01],\n",
              "       [9.77501273e-01, 2.24987101e-02],\n",
              "       [9.97855842e-01, 2.14417558e-03],\n",
              "       [3.33415419e-02, 9.66658473e-01],\n",
              "       [9.99738038e-01, 2.61989422e-04],\n",
              "       [9.99807179e-01, 1.92813983e-04],\n",
              "       [9.35890805e-03, 9.90641057e-01],\n",
              "       [7.02461362e-01, 2.97538608e-01],\n",
              "       [5.84056936e-02, 9.41594303e-01],\n",
              "       [4.86865342e-01, 5.13134718e-01],\n",
              "       [1.18635744e-02, 9.88136411e-01],\n",
              "       [2.37035491e-02, 9.76296484e-01],\n",
              "       [9.98107314e-01, 1.89271767e-03],\n",
              "       [1.41032144e-01, 8.58967841e-01],\n",
              "       [4.16415222e-02, 9.58358526e-01],\n",
              "       [1.32198222e-02, 9.86780107e-01],\n",
              "       [8.54442734e-03, 9.91455495e-01],\n",
              "       [9.99928355e-01, 7.15922724e-05],\n",
              "       [9.06657875e-01, 9.33420882e-02],\n",
              "       [9.95524883e-01, 4.47512604e-03],\n",
              "       [9.92731750e-01, 7.26831518e-03]], dtype=float32)"
            ]
          },
          "metadata": {
            "tags": []
          },
          "execution_count": 59
        }
      ]
    },
    {
      "cell_type": "code",
      "metadata": {
        "id": "lwgeb8K8X1JP",
        "colab_type": "code",
        "colab": {}
      },
      "source": [
        "\n",
        "import numpy as np\n",
        "y_pred = np.argmax(y_pred, axis=1)"
      ],
      "execution_count": 60,
      "outputs": []
    },
    {
      "cell_type": "code",
      "metadata": {
        "id": "myYj37JXX1Tf",
        "colab_type": "code",
        "colab": {
          "base_uri": "https://localhost:8080/",
          "height": 136
        },
        "outputId": "6933042a-4c26-4268-cde5-b1e5ff7c4a40"
      },
      "source": [
        "y_pred"
      ],
      "execution_count": 61,
      "outputs": [
        {
          "output_type": "execute_result",
          "data": {
            "text/plain": [
              "array([1, 1, 0, 0, 0, 0, 1, 1, 0, 1, 0, 1, 0, 0, 0, 0, 0, 1, 0, 1, 1, 1,\n",
              "       1, 1, 0, 1, 0, 0, 1, 0, 0, 1, 0, 0, 1, 0, 1, 0, 0, 0, 1, 1, 1, 0,\n",
              "       0, 0, 0, 1, 0, 0, 1, 0, 0, 1, 0, 0, 0, 0, 0, 1, 1, 0, 0, 0, 1, 1,\n",
              "       0, 0, 1, 0, 1, 0, 1, 1, 0, 1, 0, 1, 1, 1, 0, 0, 0, 0, 1, 1, 0, 1,\n",
              "       1, 1, 1, 0, 0, 1, 1, 1, 0, 1, 1, 1, 0, 0, 1, 1, 0, 1, 1, 0, 0, 0,\n",
              "       1, 0, 0, 1, 0, 0, 1, 0, 0, 1, 0, 1, 1, 1, 1, 0, 1, 1, 1, 1, 0, 0,\n",
              "       0, 0])"
            ]
          },
          "metadata": {
            "tags": []
          },
          "execution_count": 61
        }
      ]
    },
    {
      "cell_type": "code",
      "metadata": {
        "id": "oPhX-ZyDETki",
        "colab_type": "code",
        "colab": {
          "base_uri": "https://localhost:8080/",
          "height": 34
        },
        "outputId": "668952c6-4d4e-425f-d0a6-1c7aa45c3892"
      },
      "source": [
        "len(y_pred)"
      ],
      "execution_count": 62,
      "outputs": [
        {
          "output_type": "execute_result",
          "data": {
            "text/plain": [
              "134"
            ]
          },
          "metadata": {
            "tags": []
          },
          "execution_count": 62
        }
      ]
    },
    {
      "cell_type": "code",
      "metadata": {
        "id": "kkNUQNgdPHvh",
        "colab_type": "code",
        "colab": {
          "base_uri": "https://localhost:8080/",
          "height": 34
        },
        "outputId": "3fe1b542-840a-44db-d730-85f7bb8fffc7"
      },
      "source": [
        "np.array(y_pred==0).sum()"
      ],
      "execution_count": 63,
      "outputs": [
        {
          "output_type": "execute_result",
          "data": {
            "text/plain": [
              "71"
            ]
          },
          "metadata": {
            "tags": []
          },
          "execution_count": 63
        }
      ]
    },
    {
      "cell_type": "code",
      "metadata": {
        "id": "Pki0I5TkX1bG",
        "colab_type": "code",
        "colab": {}
      },
      "source": [
        "from tensorflow.keras.models import load_model\n",
        "from tensorflow.keras.preprocessing import image"
      ],
      "execution_count": 147,
      "outputs": []
    },
    {
      "cell_type": "code",
      "metadata": {
        "id": "0ozZ3kElX1gy",
        "colab_type": "code",
        "colab": {}
      },
      "source": [
        "model=load_model('maleria_model_vgg19.h5')"
      ],
      "execution_count": 169,
      "outputs": []
    },
    {
      "cell_type": "code",
      "metadata": {
        "id": "prh52jzZX-iC",
        "colab_type": "code",
        "colab": {}
      },
      "source": [
        "img=image.load_img('/content/drive/My Drive/Malaria/Dataset/Test/Parasite/C39P4thinF_original_IMG_20150622_105803_cell_106.png',target_size=(224,224))\n"
      ],
      "execution_count": 180,
      "outputs": []
    },
    {
      "cell_type": "code",
      "metadata": {
        "id": "Kenl5EqKwtcN",
        "colab_type": "code",
        "colab": {
          "base_uri": "https://localhost:8080/",
          "height": 241
        },
        "outputId": "34383061-d3e6-4371-9322-7e149db9d528"
      },
      "source": [
        "img"
      ],
      "execution_count": 181,
      "outputs": [
        {
          "output_type": "execute_result",
          "data": {
            "image/png": "[encoded data removed]",
            "text/plain": [
              "<PIL.Image.Image image mode=RGB size=224x224 at 0x7FAFEE6CBBE0>"
            ]
          },
          "metadata": {
            "tags": []
          },
          "execution_count": 181
        }
      ]
    },
    {
      "cell_type": "code",
      "metadata": {
        "id": "HZUVTc7DX-la",
        "colab_type": "code",
        "colab": {
          "base_uri": "https://localhost:8080/",
          "height": 850
        },
        "outputId": "4c460053-cb7d-478f-aeac-19b892d1aaa0"
      },
      "source": [
        "y=image.img_to_array(img)\n",
        "y\n"
      ],
      "execution_count": 182,
      "outputs": [
        {
          "output_type": "execute_result",
          "data": {
            "text/plain": [
              "array([[[0., 0., 0.],\n",
              "        [0., 0., 0.],\n",
              "        [0., 0., 0.],\n",
              "        ...,\n",
              "        [0., 0., 0.],\n",
              "        [0., 0., 0.],\n",
              "        [0., 0., 0.]],\n",
              "\n",
              "       [[0., 0., 0.],\n",
              "        [0., 0., 0.],\n",
              "        [0., 0., 0.],\n",
              "        ...,\n",
              "        [0., 0., 0.],\n",
              "        [0., 0., 0.],\n",
              "        [0., 0., 0.]],\n",
              "\n",
              "       [[0., 0., 0.],\n",
              "        [0., 0., 0.],\n",
              "        [0., 0., 0.],\n",
              "        ...,\n",
              "        [0., 0., 0.],\n",
              "        [0., 0., 0.],\n",
              "        [0., 0., 0.]],\n",
              "\n",
              "       ...,\n",
              "\n",
              "       [[0., 0., 0.],\n",
              "        [0., 0., 0.],\n",
              "        [0., 0., 0.],\n",
              "        ...,\n",
              "        [0., 0., 0.],\n",
              "        [0., 0., 0.],\n",
              "        [0., 0., 0.]],\n",
              "\n",
              "       [[0., 0., 0.],\n",
              "        [0., 0., 0.],\n",
              "        [0., 0., 0.],\n",
              "        ...,\n",
              "        [0., 0., 0.],\n",
              "        [0., 0., 0.],\n",
              "        [0., 0., 0.]],\n",
              "\n",
              "       [[0., 0., 0.],\n",
              "        [0., 0., 0.],\n",
              "        [0., 0., 0.],\n",
              "        ...,\n",
              "        [0., 0., 0.],\n",
              "        [0., 0., 0.],\n",
              "        [0., 0., 0.]]], dtype=float32)"
            ]
          },
          "metadata": {
            "tags": []
          },
          "execution_count": 182
        }
      ]
    },
    {
      "cell_type": "code",
      "metadata": {
        "id": "tf-S1PnBYeJN",
        "colab_type": "code",
        "colab": {
          "base_uri": "https://localhost:8080/",
          "height": 34
        },
        "outputId": "2e6379c7-675f-4487-afc0-2384a11a22d3"
      },
      "source": [
        "y.shape"
      ],
      "execution_count": 183,
      "outputs": [
        {
          "output_type": "execute_result",
          "data": {
            "text/plain": [
              "(224, 224, 3)"
            ]
          },
          "metadata": {
            "tags": []
          },
          "execution_count": 183
        }
      ]
    },
    {
      "cell_type": "code",
      "metadata": {
        "id": "q7Wy5JxXw1BX",
        "colab_type": "code",
        "colab": {
          "base_uri": "https://localhost:8080/",
          "height": 34
        },
        "outputId": "8cf2bf36-102b-4c23-9c68-46491e930487"
      },
      "source": [
        "y=np.expand_dims(y,axis=0)\n",
        "y.shape"
      ],
      "execution_count": 184,
      "outputs": [
        {
          "output_type": "execute_result",
          "data": {
            "text/plain": [
              "(1, 224, 224, 3)"
            ]
          },
          "metadata": {
            "tags": []
          },
          "execution_count": 184
        }
      ]
    },
    {
      "cell_type": "code",
      "metadata": {
        "id": "o15OTtbLqvLz",
        "colab_type": "code",
        "colab": {}
      },
      "source": [
        ""
      ],
      "execution_count": 184,
      "outputs": []
    },
    {
      "cell_type": "code",
      "metadata": {
        "id": "Lw_Qavl4aTJ2",
        "colab_type": "code",
        "colab": {
          "base_uri": "https://localhost:8080/",
          "height": 34
        },
        "outputId": "f6023c8f-82e7-4570-aa0f-ac8e092d149a"
      },
      "source": [
        "imgy=preprocess_input(y)\n",
        "imgy.shape"
      ],
      "execution_count": 185,
      "outputs": [
        {
          "output_type": "execute_result",
          "data": {
            "text/plain": [
              "(1, 224, 224, 3)"
            ]
          },
          "metadata": {
            "tags": []
          },
          "execution_count": 185
        }
      ]
    },
    {
      "cell_type": "code",
      "metadata": {
        "id": "QnA-k9rmqxR5",
        "colab_type": "code",
        "colab": {}
      },
      "source": [
        "imgy=imgy/255\n"
      ],
      "execution_count": 186,
      "outputs": []
    },
    {
      "cell_type": "code",
      "metadata": {
        "id": "gSVtt_PTY3IY",
        "colab_type": "code",
        "colab": {
          "base_uri": "https://localhost:8080/",
          "height": 34
        },
        "outputId": "e028f1f6-9db2-4a4e-d4f7-38a401876d44"
      },
      "source": [
        "preds= model.predict(imgy)\n",
        "preds\n",
        "\n"
      ],
      "execution_count": 187,
      "outputs": [
        {
          "output_type": "execute_result",
          "data": {
            "text/plain": [
              "array([[0.89126515, 0.10873483]], dtype=float32)"
            ]
          },
          "metadata": {
            "tags": []
          },
          "execution_count": 187
        }
      ]
    },
    {
      "cell_type": "code",
      "metadata": {
        "id": "MuR2FedtY3Qv",
        "colab_type": "code",
        "colab": {
          "base_uri": "https://localhost:8080/",
          "height": 34
        },
        "outputId": "c30db68f-1ba8-4d51-fd75-3240a8d3abc2"
      },
      "source": [
        "a=np.argmax(preds, axis=1)\n",
        "a"
      ],
      "execution_count": 188,
      "outputs": [
        {
          "output_type": "execute_result",
          "data": {
            "text/plain": [
              "array([0])"
            ]
          },
          "metadata": {
            "tags": []
          },
          "execution_count": 188
        }
      ]
    },
    {
      "cell_type": "code",
      "metadata": {
        "id": "uqOVAwEtY9DX",
        "colab_type": "code",
        "colab": {
          "base_uri": "https://localhost:8080/",
          "height": 34
        },
        "outputId": "351a55d7-a788-46fa-c303-822e978fcd67"
      },
      "source": [
        "if(a==1):\n",
        "    print(\"Uninfected\")\n",
        "else:\n",
        "    print(\"Infected\")"
      ],
      "execution_count": 189,
      "outputs": [
        {
          "output_type": "stream",
          "text": [
            "Infected\n"
          ],
          "name": "stdout"
        }
      ]
    },
    {
      "cell_type": "code",
      "metadata": {
        "id": "5vGtV2turMLE",
        "colab_type": "code",
        "colab": {}
      },
      "source": [
        ""
      ],
      "execution_count": null,
      "outputs": []
    }
  ]
}